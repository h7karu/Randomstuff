{
 "cells": [
  {
   "cell_type": "markdown",
   "metadata": {},
   "source": [
    "# Data Visualization on telegram chat history \n",
    "\n",
    "Want to find out random information like the average response time of your girlfriend or who sends more messages?\n",
    "You can do so by: \n",
    "1. Export your telegram private chat history (no group chats) as a .json file\n",
    "2. Name it result.json\n",
    "3. Place it in the same folder as this code and click Run All! (can use VScode or Colab)"
   ]
  },
  {
   "cell_type": "code",
   "execution_count": null,
   "metadata": {},
   "outputs": [],
   "source": [
    "from collections import Counter\n",
    "import json\n",
    "\n",
    "with open(\"result.json\", encoding=\"utf-8\") as f:\n",
    "    data = json.load(f)\n",
    "\n",
    "messages = data[\"messages\"]\n",
    "sender_counts = Counter(msg[\"from\"] for msg in messages if \"from\" in msg)\n",
    "\n",
    "print(sender_counts)\n"
   ]
  },
  {
   "cell_type": "code",
   "execution_count": null,
   "metadata": {},
   "outputs": [],
   "source": [
    "import pandas as pd \n",
    "import matplotlib.pyplot as plt"
   ]
  },
  {
   "cell_type": "code",
   "execution_count": null,
   "metadata": {},
   "outputs": [],
   "source": [
    "df = pd.DataFrame(messages)"
   ]
  },
  {
   "cell_type": "code",
   "execution_count": null,
   "metadata": {},
   "outputs": [],
   "source": [
    "df.head()"
   ]
  },
  {
   "cell_type": "markdown",
   "metadata": {},
   "source": []
  },
  {
   "cell_type": "code",
   "execution_count": null,
   "metadata": {},
   "outputs": [],
   "source": [
    "df[\"date\"] = pd.to_datetime(df[\"date\"])\n",
    "df[\"hour\"] = df[\"date\"].dt.hour\n",
    "\n",
    "plt.figure(figsize=(10, 5))\n",
    "df[\"hour\"].plot(kind=\"hist\", bins=24, rwidth=0.8, color=\"purple\")\n",
    "plt.xlabel(\"Hour of the Day\")\n",
    "plt.ylabel(\"Message Count\")\n",
    "plt.title(\"Message Distribution by Hour\")\n",
    "plt.xticks(range(24))\n",
    "plt.show()"
   ]
  },
  {
   "cell_type": "code",
   "execution_count": null,
   "metadata": {},
   "outputs": [],
   "source": [
    "df['date'] = pd.to_datetime(df['date'])\n",
    "\n",
    "\n",
    "message_counts = df['from'].value_counts()\n",
    "\n",
    "plt.figure(figsize=(6, 4))\n",
    "plt.bar(message_counts.index, message_counts.values, color=['blue', 'red'])\n",
    "\n",
    "\n",
    "plt.xlabel(\"Sender\")\n",
    "plt.ylabel(\"Number of Messages\")\n",
    "plt.title(\"Number of Messages Sent by Each Person\")\n",
    "\n",
    "for i, count in enumerate(message_counts.values):\n",
    "    plt.text(i, count + 0.2, str(count), ha='center', fontsize=12)\n",
    "\n",
    "plt.show()"
   ]
  },
  {
   "cell_type": "code",
   "execution_count": null,
   "metadata": {},
   "outputs": [],
   "source": [
    "df2 = df.shift(1)\n",
    "df2.iloc[0] = df.iloc[0]\n",
    "df2 = df2.rename(columns= lambda x: x + '_new')\n",
    "df2.head()"
   ]
  },
  {
   "cell_type": "code",
   "execution_count": null,
   "metadata": {},
   "outputs": [],
   "source": [
    "pd.set_option('display.max_columns', None)\n",
    "merged_df = pd.concat([df, df2], axis=1)\n",
    "respond = merged_df[merged_df['from'] != merged_df['from_new']]\n",
    "respond['response_time'] = (respond['date'] - respond['date_new']).dt.total_seconds()/60\n",
    "respond.groupby('from')['response_time'].mean().plot(kind='bar', title='Average Response Time by Sender',\n",
    "                                                     color=['blue','orange'])"
   ]
  },
  {
   "cell_type": "code",
   "execution_count": null,
   "metadata": {},
   "outputs": [],
   "source": [
    "df['message_length'] = df['text'].astype(str).apply(len)\n",
    "df.groupby('from')['message_length'].mean().plot(kind='bar', title=\"Average Message Length by Sender\")\n",
    "plt.ylabel(\"Avg. Message Length (characters)\")\n",
    "plt.show()"
   ]
  },
  {
   "cell_type": "code",
   "execution_count": null,
   "metadata": {},
   "outputs": [],
   "source": []
  },
  {
   "cell_type": "code",
   "execution_count": null,
   "metadata": {},
   "outputs": [],
   "source": []
  }
 ],
 "metadata": {
  "kernelspec": {
   "display_name": "base",
   "language": "python",
   "name": "python3"
  },
  "language_info": {
   "codemirror_mode": {
    "name": "ipython",
    "version": 3
   },
   "file_extension": ".py",
   "mimetype": "text/x-python",
   "name": "python",
   "nbconvert_exporter": "python",
   "pygments_lexer": "ipython3",
   "version": "3.11.8"
  }
 },
 "nbformat": 4,
 "nbformat_minor": 2
}
